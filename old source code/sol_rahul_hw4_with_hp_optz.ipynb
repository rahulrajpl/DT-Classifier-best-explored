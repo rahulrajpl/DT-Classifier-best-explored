{
 "cells": [
  {
   "cell_type": "code",
   "execution_count": 21,
   "metadata": {},
   "outputs": [],
   "source": [
    "import pandas as pd\n",
    "import numpy as np\n",
    "import time\n",
    "from sklearn.model_selection import train_test_split, cross_val_score, ShuffleSplit, GridSearchCV, RandomizedSearchCV\n",
    "from sklearn.preprocessing import StandardScaler,LabelEncoder\n",
    "from sklearn.decomposition import PCA\n",
    "from sklearn.svm import SVC\n",
    "from sklearn.linear_model import LogisticRegression\n",
    "from sklearn.tree import DecisionTreeClassifier\n",
    "from sklearn.ensemble import RandomForestClassifier\n",
    "from sklearn.metrics import confusion_matrix, accuracy_score, classification_report, recall_score, f1_score, precision_score\n",
    "from matplotlib import pyplot as  plt\n",
    "import concurrent.futures\n",
    "import warnings\n",
    "warnings.filterwarnings('ignore')"
   ]
  },
  {
   "cell_type": "code",
   "execution_count": 2,
   "metadata": {},
   "outputs": [],
   "source": [
    "df = pd.read_excel('HW_TESLA.xlt')"
   ]
  },
  {
   "cell_type": "code",
   "execution_count": 3,
   "metadata": {},
   "outputs": [],
   "source": [
    "def splitDataSet7525(df):\n",
    "    \"\"\"\n",
    "    This function is to generate dataset for cross validation with 25% data available\n",
    "    \"\"\"\n",
    "    df_train, df_test = train_test_split(df, test_size=0.25) # 75 % training data   \n",
    "    return df_train, df_test"
   ]
  },
  {
   "cell_type": "code",
   "execution_count": 4,
   "metadata": {},
   "outputs": [],
   "source": [
    "def splitDataSet5050(df):\n",
    "    \"\"\"\n",
    "    This function is to generate dataset for held out validation of 25% data available\n",
    "    \"\"\"\n",
    "    df_train, X = train_test_split(df, test_size=0.5) # 50 % training data   \n",
    "    df_val, df_test = train_test_split(X, test_size=0.5) # 25 % validation data and 25 % testing data\n",
    "    return df_train, df_val, df_test"
   ]
  },
  {
   "cell_type": "code",
   "execution_count": 5,
   "metadata": {},
   "outputs": [],
   "source": [
    "def balanceSplit(df):\n",
    "    \"\"\"\n",
    "    This function is to generate balanced dataset for held out validation of 25% data available\n",
    "    \"\"\"\n",
    "    X_train = pd.concat([df[df['STATIC']==0].sample(n=1037), df[df['STATIC']==1].sample(n=1038)])\n",
    "    idx = [i for i in range(4150) if i not in X_train.index] # Getting row indices which are not in X_train    \n",
    "    df1 = df.iloc[idx]\n",
    "    X_val = pd.concat([df1[df1['STATIC']==0].sample(n=518), df1[df1['STATIC']==1].sample(n=519)])\n",
    "    idx = [i for i in range(2075) if i not in X_val.index] # Getting row indices which are not in X_val\n",
    "    X_test = df1.iloc[idx]\n",
    "    return X_train, X_val, X_test\n",
    "    "
   ]
  },
  {
   "cell_type": "code",
   "execution_count": 6,
   "metadata": {},
   "outputs": [],
   "source": [
    "def generate_data():\n",
    "    df = pd.read_excel('HW_TESLA.xlt')\n",
    "    global X_train, y_train, X_test, y_test\n",
    "    df_train, df_test = splitDataSet7525(df)\n",
    "    #Separating feature matrix and corresponding labels\n",
    "    X_train = df_train.drop('STATIC',axis=1)\n",
    "    # X_val = df_val.drop('STATIC',axis=1)\n",
    "    X_test = df_test.drop('STATIC',axis=1)\n",
    "    y_train = df_train['STATIC']\n",
    "    # y_val = df_val['STATIC']\n",
    "    y_test = df_test['STATIC']\n",
    "    return X_train, y_train, X_test, y_test"
   ]
  },
  {
   "cell_type": "code",
   "execution_count": 7,
   "metadata": {},
   "outputs": [],
   "source": [
    "def generate_report(conf_mat, y_test, y_pred):\n",
    "\n",
    "    FP = conf_mat[0][1]\n",
    "    FN = conf_mat[1][0]\n",
    "    accuracy = accuracy_score(y_test, y_pred)\n",
    "    recall = recall_score(y_test, y_pred)\n",
    "    precision = precision_score(y_test, y_pred)\n",
    "    f1score = f1_score(y_test, y_pred)\n",
    "\n",
    "    return FP, FN, accuracy, recall, precision, f1score"
   ]
  },
  {
   "cell_type": "code",
   "execution_count": 46,
   "metadata": {},
   "outputs": [],
   "source": [
    "def DT_before_PCA():\n",
    "    X_train, y_train, X_test, y_test = generate_data()\n",
    "    clf = DecisionTreeClassifier(max_depth=5)\n",
    "    clf.fit(X_train,y_train)\n",
    "\n",
    "    random_grid = {'criterion': ['gini','entropy'],\n",
    "                   'max_depth': [2,3,4,5,6,7],\n",
    "                   'min_samples_split':[2,3,4,5],\n",
    "                   }\n",
    "    clf = DecisionTreeClassifier()\n",
    "    clf_random = RandomizedSearchCV(estimator=clf, param_distributions=random_grid)\n",
    "    clf_random.fit(X_train, y_train)\n",
    "    #     cv = ShuffleSplit(n_splits=10, test_size=0.33, random_state=0)\n",
    "    scores = cross_val_score(clf_random, X_train, y_train, cv=3)\n",
    "    val_score = (scores.mean(), scores.std() * 2)\n",
    "\n",
    "    y_pred = clf_random.predict(X_test)\n",
    "    conf_mat=confusion_matrix(y_test,y_pred)\n",
    "    outcome = list(generate_report(conf_mat, y_test, y_pred))\n",
    "    outcome.insert(0, val_score[0])\n",
    "    \n",
    "    return outcome"
   ]
  },
  {
   "cell_type": "markdown",
   "metadata": {},
   "source": [
    "### Calculating n_components in PCA for feature reduction"
   ]
  },
  {
   "cell_type": "code",
   "execution_count": 13,
   "metadata": {},
   "outputs": [
    {
     "name": "stdout",
     "output_type": "stream",
     "text": [
      "[ 64.2  92.7  99.  100.  100.  100.  100.  100.  100.  100.  100.  100.\n",
      " 100.  100.  100.  100.  100.  100.  100.  100.  100.  100.  100.  100.\n",
      " 100.  100.  100.  100.  100.  100.  100.  100.  100.  100.  100.  100.\n",
      " 100.  100.  100.  100.  100.  100.  100.  100.  100.  100.  100.  100.\n",
      " 100.  100.  100.  100.  100.  100.  100.  100.  100.  100.  100.  100.\n",
      " 100.  100.  100.  100.  100.  100.  100.  100.  100.  100.  100.  100.\n",
      " 100.  100.  100.  100.  100.  100.  100.  100.  100.  100.  100.  100.\n",
      " 100.  100.  100.  100.  100.  100.  100.  100.  100.  100.  100.  100.\n",
      " 100.  100.  100.  100.  100.  100.  100.  100.  100.  100.  100.  100.\n",
      " 100.  100.  100.  100.  100.  100.  100.  100.  100.  100.  100.  100.\n",
      " 100.  100.  100.  100.  100.  100.  100.  100.  100.  100.  100.  100. ]\n"
     ]
    },
    {
     "data": {
      "text/plain": [
       "[<matplotlib.lines.Line2D at 0x7f22683506a0>]"
      ]
     },
     "execution_count": 13,
     "metadata": {},
     "output_type": "execute_result"
    },
    {
     "data": {
      "image/png": "[encoded data removed]",
      "text/plain": [
       "<Figure size 432x288 with 1 Axes>"
      ]
     },
     "metadata": {
      "needs_background": "light"
     },
     "output_type": "display_data"
    }
   ],
   "source": [
    "#Centering data by mean i.e. subtracting mean from each data and doing PCA\n",
    "\n",
    "# scaler=StandardScaler().fit(X_train)\n",
    "# X_train=scaler.transform(X_train)\n",
    "# X_val = scaler.transform(X_val)\n",
    "# X_test=scaler.transform(X_test)\n",
    "\n",
    "covar_matrix=PCA()\n",
    "covar_matrix.fit(X_train)\n",
    "variance = covar_matrix.explained_variance_ratio_ #calculate variance ratios\n",
    "var=np.cumsum(np.round(covar_matrix.explained_variance_ratio_, decimals=3)*100)\n",
    "print(var) #cumulative sum of variance explained with [n] features\n",
    "\n",
    "plt.ylabel('% Variance Explained')\n",
    "plt.xlabel('# of Features')\n",
    "plt.title('PCA Analysis')\n",
    "plt.ylim(50,100.5)\n",
    "plt.xlim(0,10)\n",
    "plt.style.context('seaborn-whitegrid')\n",
    "\n",
    "\n",
    "plt.plot(var, marker='o')"
   ]
  },
  {
   "cell_type": "code",
   "execution_count": 14,
   "metadata": {},
   "outputs": [],
   "source": [
    "def apply_PCA():\n",
    "    global pca_X_train, pca_X_test\n",
    "    # we can reduce number of features to 5 to capture 99.8 % variance in PCA\n",
    "    pca=PCA(n_components=5)\n",
    "    pca.fit(X_train)\n",
    "\n",
    "    # Get new feature matrices from pca\n",
    "    pca_X_train=pca.transform(X_train)\n",
    "    pca_X_test=pca.transform(X_test)"
   ]
  },
  {
   "cell_type": "markdown",
   "metadata": {},
   "source": [
    "### Generating Datasets for all experiments"
   ]
  },
  {
   "cell_type": "code",
   "execution_count": 51,
   "metadata": {},
   "outputs": [],
   "source": [
    "X_train, y_train, X_test, y_test = generate_data()"
   ]
  },
  {
   "cell_type": "markdown",
   "metadata": {},
   "source": [
    "### Running Decision Tree Algorithm after PCA"
   ]
  },
  {
   "cell_type": "code",
   "execution_count": 48,
   "metadata": {},
   "outputs": [],
   "source": [
    "def DT_after_PCA():\n",
    "    X_train, y_train, X_test, y_test = generate_data()\n",
    "    apply_PCA()\n",
    "    clf = DecisionTreeClassifier(max_depth=5)\n",
    "    clf.fit(X_train,y_train)\n",
    "\n",
    "    random_grid = {'criterion': ['gini','entropy'],\n",
    "                   'max_depth': [2,3,4,5,6,7],\n",
    "                   'min_samples_split':[2,3,4,5],\n",
    "                   }\n",
    "    clf = DecisionTreeClassifier()\n",
    "    clf_random = RandomizedSearchCV(estimator=clf, param_distributions=random_grid)\n",
    "    clf_random.fit(X_train, y_train)\n",
    "    #     cv = ShuffleSplit(n_splits=10, test_size=0.33, random_state=0)\n",
    "    scores = cross_val_score(clf_random, X_train, y_train, cv=3)\n",
    "    val_score = (scores.mean(), scores.std() * 2)\n",
    "\n",
    "    y_pred = clf_random.predict(X_test)\n",
    "    conf_mat=confusion_matrix(y_test,y_pred)\n",
    "    outcome = list(generate_report(conf_mat, y_test, y_pred))\n",
    "    outcome.insert(0, val_score[0])\n",
    "    \n",
    "    return outcome"
   ]
  },
  {
   "cell_type": "markdown",
   "metadata": {},
   "source": [
    "### Running Logistic Regression after PCA"
   ]
  },
  {
   "cell_type": "code",
   "execution_count": 16,
   "metadata": {},
   "outputs": [],
   "source": [
    "def LR_after_PCA():\n",
    "    X_train, y_train, X_test, y_test = generate_data()\n",
    "    apply_PCA()\n",
    "    clf = LogisticRegression()\n",
    "    clf.fit(pca_X_train,y_train)\n",
    "\n",
    "    # Trying ShuffleSplit\n",
    "    cv = ShuffleSplit(n_splits=10, test_size=0.33, random_state=0)\n",
    "    scores = cross_val_score(clf, pca_X_train, y_train, cv=cv)\n",
    "#     print(\"cross_val_score Accuracy: %0.2f (+/- %0.2f)\" % (scores.mean(), scores.std() * 2))\n",
    "\n",
    "    y_pred = clf.predict(pca_X_test)\n",
    "    conf_mat=confusion_matrix(y_test,y_pred)\n",
    "    \n",
    "    outcome = list(generate_report(conf_mat, y_test, y_pred))\n",
    "    outcome.insert(0, scores[0])\n",
    "    \n",
    "    return outcome"
   ]
  },
  {
   "cell_type": "markdown",
   "metadata": {},
   "source": [
    "### Running Linear SVM after PCA"
   ]
  },
  {
   "cell_type": "code",
   "execution_count": 17,
   "metadata": {},
   "outputs": [],
   "source": [
    "def SVM_after_PCA():\n",
    "    X_train, y_train, X_test, y_test = generate_data()\n",
    "    apply_PCA()\n",
    "    \n",
    "    clf = SVC(kernel='linear')\n",
    "    clf.fit(pca_X_train,y_train)\n",
    "\n",
    "    # Trying ShuffleSplit\n",
    "    cv = ShuffleSplit(n_splits=10, test_size=0.33, random_state=0)\n",
    "    scores = cross_val_score(clf, pca_X_train, y_train, cv=cv)\n",
    "#     print(\"cross_val_score Accuracy: %0.2f (+/- %0.2f)\" % (scores.mean(), scores.std() * 2))\n",
    "\n",
    "    y_pred = clf.predict(pca_X_test)\n",
    "    conf_mat=confusion_matrix(y_test,y_pred)\n",
    "    \n",
    "    outcome = list(generate_report(conf_mat, y_test, y_pred))\n",
    "    outcome.insert(0, scores[0])\n",
    "    \n",
    "    return outcome\n",
    "    "
   ]
  },
  {
   "cell_type": "code",
   "execution_count": 18,
   "metadata": {},
   "outputs": [],
   "source": [
    "def RF_after_PCA():\n",
    "    \n",
    "    X_train, y_train, X_test, y_test = generate_data()\n",
    "    apply_PCA()\n",
    "    \n",
    "    def evaluate(model, test_features, test_labels):\n",
    "        predictions = model.predict(test_features)\n",
    "        errors = abs(predictions - test_labels)\n",
    "        mape = 100 * np.mean(errors / test_labels)\n",
    "        accuracy = 100 - mape\n",
    "        print('Model Performance')\n",
    "        print('Average Error: {:0.4f} degrees.'.format(np.mean(errors)))\n",
    "        print('Accuracy = {:0.2f}%.'.format(accuracy))\n",
    "\n",
    "        return accuracy\n",
    "    \n",
    "    clf = RandomForestClassifier(n_estimators=10, max_depth=2, random_state=0)\n",
    "    clf.fit(pca_X_train,y_train)\n",
    "    base_accuracy = evaluate(clf, pca_X_test, y_test)\n",
    "    \n",
    "    n_estimators = [int(x) for x in np.linspace(start = 10, stop = 50, num = 5)]\n",
    "    max_features = ['auto', 'sqrt']\n",
    "    max_depth = list(range(1,10,1))\n",
    "    max_depth.append(None)\n",
    "    min_samples_split = [2, 5, 10]\n",
    "    min_samples_leaf = [1, 2, 4]\n",
    "    bootstrap = [True, False]\n",
    "    random_grid = {'n_estimators': n_estimators,\n",
    "                   'max_depth': max_depth,\n",
    "                   'min_samples_split':min_samples_split,\n",
    "                   'bootstrap': bootstrap}\n",
    "    \n",
    "    clf = RandomForestClassifier()\n",
    "    clf_random = RandomizedSearchCV(estimator = clf, param_distributions = random_grid, \n",
    "                                  n_iter = 100, cv = 3, verbose=2, random_state=42, n_jobs = -1)\n",
    "    \n",
    "    clf_random.fit(pca_X_train,y_train)\n",
    "    best_random = clf_random.best_estimator_\n",
    "    random_accuracy = evaluate(best_random, pca_X_test, y_test)\n",
    "    \n",
    "    # Trying ShuffleSplit\n",
    "    cv = ShuffleSplit(n_splits=10, test_size=0.33, random_state=0)\n",
    "    scores = cross_val_score(clf_random, pca_X_train, y_train, cv=cv)\n",
    "#     print(\"cross_val_score Accuracy: %0.2f (+/- %0.2f)\" % (scores.mean(), scores.std() * 2))\n",
    "\n",
    "    y_pred = clf_random.predict(pca_X_test)\n",
    "    conf_mat=confusion_matrix(y_test,y_pred)\n",
    "    \n",
    "    outcome = list(generate_report(conf_mat, y_test, y_pred))\n",
    "    outcome.insert(0, scores[0])\n",
    "    print(clf_random.best_params_)\n",
    "    print('Improvement of {:0.2f}%.'.format( 100 * (random_accuracy - base_accuracy) / base_accuracy))\n",
    "    return outcome"
   ]
  },
  {
   "cell_type": "markdown",
   "metadata": {},
   "source": [
    "### Getting the report of different algorithms"
   ]
  },
  {
   "cell_type": "code",
   "execution_count": 50,
   "metadata": {
    "scrolled": false
   },
   "outputs": [
    {
     "name": "stdout",
     "output_type": "stream",
     "text": [
      "\n",
      "\n",
      "\n",
      "Ran the experiment with Decision Tree before PCA 1000 times\n",
      "Report: \n",
      "\n",
      "     Val_Accuracy  FP  FN  Accuracy    Recall  Precision   F1Score\n",
      "0        0.994218   0   2  0.998073  0.996890   1.000000  0.998442\n",
      "1        0.991002   1   1  0.998073  0.998392   0.998392  0.998392\n",
      "2        0.993252   5   7  0.988439  0.988710   0.991909  0.990307\n",
      "3        0.993573   1   5  0.994220  0.992051   0.998400  0.995215\n",
      "4        0.992287   5   0  0.995183  1.000000   0.992390  0.996180\n",
      "..            ...  ..  ..       ...       ...        ...       ...\n",
      "995      0.993572   7   1  0.992293  0.998400   0.988906  0.993631\n",
      "996      0.994856   5   6  0.989403  0.990164   0.991790  0.990976\n",
      "997      0.992609   4   1  0.995183  0.998382   0.993559  0.995964\n",
      "998      0.991967   4   1  0.995183  0.998410   0.993671  0.996035\n",
      "999      0.991645   5   2  0.993256  0.996885   0.992248  0.994561\n",
      "\n",
      "[1000 rows x 7 columns]\n",
      "Averaging the above experiments: \n",
      "\n",
      "Val_Accuracy    0.993227\n",
      "FP              2.644000\n",
      "FN              3.601000\n",
      "Accuracy        0.993984\n",
      "Recall          0.994278\n",
      "Precision       0.995795\n",
      "F1Score         0.995029\n",
      "dtype: float64\n",
      "Time Taken for execution is  5158.07 Seconds\n",
      "\n",
      "\n",
      "\n",
      "Ran the experiment with Decision Tree with PCA 1000 times\n",
      "Report: \n",
      "\n",
      "     Val_Accuracy  FP  FN  Accuracy    Recall  Precision   F1Score\n",
      "0        0.993571   5   1  0.994220  0.998384   0.991974  0.995169\n",
      "1        0.991004   0   4  0.996146  0.993485   1.000000  0.996732\n",
      "2        0.993572   6   2  0.992293  0.996880   0.990698  0.993779\n",
      "3        0.991967   7   1  0.992293  0.998440   0.989181  0.993789\n",
      "4        0.995822   2   6  0.992293  0.990400   0.996779  0.993579\n",
      "..            ...  ..  ..       ...       ...        ...       ...\n",
      "995      0.992287   2   4  0.994220  0.993485   0.996732  0.995106\n",
      "996      0.992930   0   5  0.995183  0.991974   1.000000  0.995971\n",
      "997      0.993894   1   2  0.997110  0.996769   0.998382  0.997575\n",
      "998      0.991966   1   5  0.994220  0.992188   0.998428  0.995298\n",
      "999      0.991966   3   4  0.993256  0.993808   0.995349  0.994578\n",
      "\n",
      "[1000 rows x 7 columns]\n",
      "Averaging the above experiments: \n",
      "\n",
      "Val_Accuracy    0.993243\n",
      "FP              2.640000\n",
      "FN              3.269000\n",
      "Accuracy        0.994307\n",
      "Recall          0.994798\n",
      "Precision       0.995798\n",
      "F1Score         0.995291\n",
      "dtype: float64\n",
      "Time Taken for execution is  5200.43 Seconds\n",
      "\n",
      "\n",
      "\n",
      "Ran the experiment with Logistic Regression 1000 times\n",
      "Report: \n",
      "\n",
      "     Val_Accuracy  FP  FN  Accuracy    Recall  Precision   F1Score\n",
      "0        0.991237   0   3  0.997110  0.995185   1.000000  0.997586\n",
      "1        0.990263   1   3  0.996146  0.995238   0.998408  0.996820\n",
      "2        0.993184   1   3  0.996146  0.995223   0.998403  0.996810\n",
      "3        0.992210   0   5  0.995183  0.992212   1.000000  0.996091\n",
      "4        0.995131   0   4  0.996146  0.993750   1.000000  0.996865\n",
      "..            ...  ..  ..       ...       ...        ...       ...\n",
      "995      0.993184   3   9  0.988439  0.985197   0.995017  0.990083\n",
      "996      0.985394   1   5  0.994220  0.992175   0.998425  0.995290\n",
      "997      0.987342   0   3  0.997110  0.995146   1.000000  0.997567\n",
      "998      0.993184   1   8  0.991329  0.987461   0.998415  0.992908\n",
      "999      0.995131   3   4  0.993256  0.993769   0.995320  0.994544\n",
      "\n",
      "[1000 rows x 7 columns]\n",
      "Averaging the above experiments: \n",
      "\n",
      "Val_Accuracy    0.992720\n",
      "FP              1.090000\n",
      "FN              5.446000\n",
      "Accuracy        0.993703\n",
      "Recall          0.991346\n",
      "Precision       0.998254\n",
      "F1Score         0.994782\n",
      "dtype: float64\n",
      "Time Taken for execution is  761.51 Seconds\n",
      "\n",
      "\n",
      "\n",
      "Ran the experiment with SVM 1000 times\n",
      "Report: \n",
      "\n",
      "     Val_Accuracy  FP  FN  Accuracy    Recall  Precision   F1Score\n",
      "0        0.992210   2   8  0.990366  0.987118   0.996748  0.991909\n",
      "1        0.996105   4   2  0.994220  0.996830   0.993681  0.995253\n",
      "2        0.995131   2   4  0.994220  0.993506   0.996743  0.995122\n",
      "3        0.993184   9   0  0.991329  1.000000   0.985915  0.992908\n",
      "4        0.987342   3   6  0.991329  0.990338   0.995146  0.992736\n",
      "..            ...  ..  ..       ...       ...        ...       ...\n",
      "995      0.993184   0   2  0.998073  0.996732   1.000000  0.998363\n",
      "996      0.993184   4   3  0.993256  0.995313   0.993760  0.994536\n",
      "997      0.992210   5   5  0.990366  0.991817   0.991817  0.991817\n",
      "998      0.995131   7   0  0.993256  1.000000   0.988764  0.994350\n",
      "999      0.995131   6   1  0.993256  0.998476   0.990923  0.994685\n",
      "\n",
      "[1000 rows x 7 columns]\n",
      "Averaging the above experiments: \n",
      "\n",
      "Val_Accuracy    0.992765\n",
      "FP              4.104000\n",
      "FN              3.180000\n",
      "Accuracy        0.992983\n",
      "Recall          0.994948\n",
      "Precision       0.993487\n",
      "F1Score         0.994205\n",
      "dtype: float64\n",
      "Time Taken for execution is  866.82 Seconds\n"
     ]
    }
   ],
   "source": [
    "algos = {'Decision Tree before PCA':DT_before_PCA,\n",
    "         'Decision Tree with PCA':DT_after_PCA,\n",
    "         'Logistic Regression':LR_after_PCA,\n",
    "         'SVM':SVM_after_PCA}\n",
    "\n",
    "for k in algos.keys():\n",
    "    count = 1000 # Experiment Count for analysis\n",
    "    algo = algos[k]\n",
    "    start = time.perf_counter()\n",
    "    val_scores = np.array([])\n",
    "    p_scores = np.array([])\n",
    "    measurements = []\n",
    "\n",
    "    for _ in range(count):\n",
    "        outcome = algo()\n",
    "        measurements.append(outcome)\n",
    "   \n",
    "  \n",
    "#     with concurrent.futures.ProcessPoolExecutor() as executor:\n",
    "#         results = [executor.submit(algo) for _ in range(count)]\n",
    "\n",
    "#     for f in concurrent.futures.as_completed(results):\n",
    "#         outcome = f.result()\n",
    "#         measurements.append(outcome)\n",
    "\n",
    "    print(\"\\n\\n\\nRan the experiment with\", k , count, \"times\")\n",
    "    print(\"Report: \\n\")\n",
    "    cols = ['Val_Accuracy', 'FP', 'FN', 'Accuracy', 'Recall', 'Precision', 'F1Score']\n",
    "    df_outcome = pd.DataFrame(measurements, columns=cols)\n",
    "    print(df_outcome)\n",
    "\n",
    "    finish = time.perf_counter()\n",
    "    print(\"Averaging the above experiments: \\n\")\n",
    "    print(df_outcome.mean())\n",
    "    print(\"Time Taken for execution is \", round(finish-start, 2), 'Seconds')"
   ]
  },
  {
   "cell_type": "code",
   "execution_count": null,
   "metadata": {},
   "outputs": [],
   "source": []
  }
 ],
 "metadata": {
  "kernelspec": {
   "display_name": "Python 3",
   "language": "python",
   "name": "python3"
  },
  "language_info": {
   "codemirror_mode": {
    "name": "ipython",
    "version": 3
   },
   "file_extension": ".py",
   "mimetype": "text/x-python",
   "name": "python",
   "nbconvert_exporter": "python",
   "pygments_lexer": "ipython3",
   "version": "3.6.8"
  }
 },
 "nbformat": 4,
 "nbformat_minor": 2
}
