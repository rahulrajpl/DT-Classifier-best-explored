{
 "cells": [
  {
   "cell_type": "code",
   "execution_count": 1,
   "metadata": {},
   "outputs": [],
   "source": [
    "import pandas as pd\n",
    "import numpy as np\n",
    "import time\n",
    "from sklearn.model_selection import train_test_split, cross_val_score, ShuffleSplit, GridSearchCV, RandomizedSearchCV\n",
    "from sklearn.preprocessing import StandardScaler,LabelEncoder\n",
    "from sklearn.decomposition import PCA\n",
    "from sklearn.svm import SVC\n",
    "from sklearn.linear_model import LogisticRegression\n",
    "from sklearn.tree import DecisionTreeClassifier\n",
    "from sklearn.ensemble import RandomForestClassifier\n",
    "from sklearn.metrics import confusion_matrix, accuracy_score, classification_report, recall_score, f1_score, precision_score\n",
    "from matplotlib import pyplot as  plt\n",
    "# from sklearn.externals import joblib\n",
    "import joblib\n",
    "import concurrent.futures\n",
    "import warnings, sys, glob\n",
    "warnings.filterwarnings('ignore')"
   ]
  },
  {
   "cell_type": "code",
   "execution_count": 2,
   "metadata": {},
   "outputs": [],
   "source": [
    "def generate_data():\n",
    "    \"\"\" \n",
    "        This function will generate random dataset from the file 'HW_TESLA.xlt' after clearning and splitting them into customary datasets\n",
    "        such as X_train, y_train, X_test, y_test\n",
    "  \n",
    "        Parameters: \n",
    "            None \n",
    "          \n",
    "        Returns: \n",
    "        \n",
    "            Returns following Pandas DATAFRAME objects a tuple in the following order\n",
    "            X_train, y_train, X_test, y_test\n",
    "            \n",
    "        \"\"\"\n",
    "    df = pd.read_excel('../HW_TESLA.xlt')\n",
    "    le=LabelEncoder().fit_transform(df['STATIC'])\n",
    "    df_train, df_test = train_test_split(df, test_size=0.25) # 75 % training data\n",
    "    #Separating feature matrix and corresponding labels\n",
    "    X_train = df_train.drop('STATIC',axis=1)\n",
    "    X_test = df_test.drop('STATIC',axis=1)\n",
    "    y_train = df_train['STATIC']\n",
    "    y_test = df_test['STATIC']\n",
    "    return X_train, y_train, X_test, y_test"
   ]
  },
  {
   "cell_type": "code",
   "execution_count": 3,
   "metadata": {},
   "outputs": [],
   "source": [
    "def generate_report(conf_mat, y_test, y_pred):\n",
    "\n",
    "    FP = conf_mat[0][1]\n",
    "    FN = conf_mat[1][0]\n",
    "    accuracy = accuracy_score(y_test, y_pred)\n",
    "    recall = recall_score(y_test, y_pred)\n",
    "    precision = precision_score(y_test, y_pred)\n",
    "    f1score = f1_score(y_test, y_pred)\n",
    "\n",
    "    return FP, FN, accuracy, recall, precision, f1score"
   ]
  },
  {
   "cell_type": "markdown",
   "metadata": {},
   "source": [
    "### Generating Dataset "
   ]
  },
  {
   "cell_type": "code",
   "execution_count": 4,
   "metadata": {},
   "outputs": [],
   "source": [
    "X_train, y_train, X_test, y_test = generate_data()"
   ]
  },
  {
   "cell_type": "markdown",
   "metadata": {},
   "source": [
    "### Applying Decision Tree before PCA "
   ]
  },
  {
   "cell_type": "code",
   "execution_count": 5,
   "metadata": {},
   "outputs": [],
   "source": [
    "def DT_before_PCA():\n",
    "    \n",
    "    p_grid = {'criterion': ['gini','entropy'],\n",
    "                   'max_depth': [2,3,4,5,6,7],\n",
    "                   'min_samples_split':[2,3,4,5,10,20,50],\n",
    "                   }\n",
    "    clf = DecisionTreeClassifier()\n",
    "    clf_random = RandomizedSearchCV(estimator=clf, param_distributions=p_grid,\n",
    "                             n_iter=100, cv = 3, n_jobs = -1, scoring='recall')\n",
    "    clf_random.fit(X_train, y_train)\n",
    "    #     cv = ShuffleSplit(n_splits=10, test_size=0.33, random_state=0)\n",
    "    scores = cross_val_score(clf_random, X_train, y_train, cv=3)\n",
    "    val_score = (scores.mean(), scores.std() * 2)\n",
    "\n",
    "    y_pred = clf_random.predict(X_test)\n",
    "    conf_mat=confusion_matrix(y_test,y_pred)\n",
    "    outcome = list(generate_report(conf_mat, y_test, y_pred))\n",
    "    outcome.insert(0, val_score[0])\n",
    "#     save_model(outcome, DT_before_PCA)\n",
    "#     print(clf_random.best_estimator_)\n",
    "    return outcome, clf_random"
   ]
  },
  {
   "cell_type": "markdown",
   "metadata": {},
   "source": [
    "### Calculating n_components in PCA for feature reduction"
   ]
  },
  {
   "cell_type": "code",
   "execution_count": 6,
   "metadata": {},
   "outputs": [
    {
     "name": "stdout",
     "output_type": "stream",
     "text": [
      "[49.9 90.2 97.8 99.7 99.9 99.9 99.9 99.9 99.9 99.9 99.9 99.9 99.9 99.9\n",
      " 99.9 99.9 99.9 99.9 99.9 99.9 99.9 99.9 99.9 99.9 99.9 99.9 99.9 99.9\n",
      " 99.9 99.9 99.9 99.9 99.9 99.9 99.9 99.9 99.9 99.9 99.9 99.9 99.9 99.9\n",
      " 99.9 99.9 99.9 99.9 99.9 99.9 99.9 99.9 99.9 99.9 99.9 99.9 99.9 99.9\n",
      " 99.9 99.9 99.9 99.9 99.9 99.9 99.9 99.9 99.9 99.9 99.9 99.9 99.9 99.9\n",
      " 99.9 99.9 99.9 99.9 99.9 99.9 99.9 99.9 99.9 99.9 99.9 99.9 99.9 99.9\n",
      " 99.9 99.9 99.9 99.9 99.9 99.9 99.9 99.9 99.9 99.9 99.9 99.9 99.9 99.9\n",
      " 99.9 99.9 99.9 99.9 99.9 99.9 99.9 99.9 99.9 99.9 99.9 99.9 99.9 99.9\n",
      " 99.9 99.9 99.9 99.9 99.9 99.9 99.9 99.9 99.9 99.9 99.9 99.9 99.9 99.9\n",
      " 99.9 99.9 99.9 99.9 99.9 99.9]\n"
     ]
    },
    {
     "data": {
      "text/plain": [
       "[<matplotlib.lines.Line2D at 0x7f6a4445c1d0>]"
      ]
     },
     "execution_count": 6,
     "metadata": {},
     "output_type": "execute_result"
    },
    {
     "data": {
      "image/png": "[encoded data removed]",
      "text/plain": [
       "<Figure size 432x288 with 1 Axes>"
      ]
     },
     "metadata": {
      "needs_background": "light"
     },
     "output_type": "display_data"
    }
   ],
   "source": [
    "#Centering data by mean i.e. subtracting mean from each data and doing PCA\n",
    "# X_train, y_train, X_test, y_test = generate_data()\n",
    "scaler=StandardScaler().fit(X_train)\n",
    "X_train=scaler.transform(X_train)\n",
    "X_test=scaler.transform(X_test)\n",
    "\n",
    "\n",
    "covar_matrix=PCA()\n",
    "covar_matrix.fit(X_train)\n",
    "variance = covar_matrix.explained_variance_ratio_ #calculate variance ratios\n",
    "var=np.cumsum(np.round(covar_matrix.explained_variance_ratio_, decimals=3)*100)\n",
    "print(var) #cumulative sum of variance explained with [n] features\n",
    "\n",
    "plt.ylabel('% Variance Explained')\n",
    "plt.xlabel('# of Features')\n",
    "plt.title('PCA Analysis')\n",
    "plt.ylim(50,100.5)\n",
    "plt.xlim(0,10)\n",
    "plt.style.context('seaborn-whitegrid')\n",
    "\n",
    "\n",
    "plt.plot(var, marker='o')"
   ]
  },
  {
   "cell_type": "code",
   "execution_count": 7,
   "metadata": {},
   "outputs": [],
   "source": [
    "def apply_PCA(X_train, X_test):\n",
    "    # we can reduce number of features to 5 to capture 99.8 % variance in PCA\n",
    "    pca=PCA(n_components=5)\n",
    "    pca.fit(X_train)\n",
    "\n",
    "    # Get new feature matrices from pca\n",
    "    pca_X_train=pca.transform(X_train)\n",
    "    pca_X_test=pca.transform(X_test)\n",
    "    return pca_X_train, pca_X_test"
   ]
  },
  {
   "cell_type": "code",
   "execution_count": 8,
   "metadata": {},
   "outputs": [],
   "source": [
    "pca_X_train, pca_X_test = apply_PCA(X_train, X_test)"
   ]
  },
  {
   "cell_type": "markdown",
   "metadata": {},
   "source": [
    "### Running Decision Tree Algorithm after PCA"
   ]
  },
  {
   "cell_type": "code",
   "execution_count": 9,
   "metadata": {},
   "outputs": [],
   "source": [
    "def DT_after_PCA(X_train, y_train, X_test, y_test): \n",
    "#     pca_X_train, pca_X_test = apply_PCA(X_train, X_test)\n",
    "    start = time.perf_counter()\n",
    "\n",
    "    scoring = ['accuracy', 'recall']\n",
    "\n",
    "    p_grid = {'criterion': ['gini','entropy'],\n",
    "               'max_depth': [2,3,4,5,6,7,8,9],\n",
    "               'min_samples_split':[2,3,4,5],\n",
    "               }\n",
    "\n",
    "    clf = DecisionTreeClassifier()\n",
    "    clf_rs = RandomizedSearchCV(estimator=clf, param_distributions=p_grid,\n",
    "                                n_iter=500, cv = 3, n_jobs=-1, scoring=scoring , refit='accuracy')\n",
    "    clf_rs.fit(X_train, y_train)\n",
    "    scores = cross_val_score(clf_rs, X_train, y_train, cv=3)\n",
    "    val_score = (scores.mean(),  scores.std() * 2)\n",
    "\n",
    "    y_pred = clf_rs.predict(X_test)\n",
    "    conf_mat=confusion_matrix(y_test,y_pred)\n",
    "    outcome = list(generate_report(conf_mat, y_test, y_pred))\n",
    "    outcome.insert(0, val_score[0])\n",
    "    finish = time.perf_counter()\n",
    "    \n",
    "    outcome.append(str(round(finish-start ,2))+' Secs')\n",
    "#     save_model(outcome, DT_before_PCA)\n",
    "\n",
    "#     print(clf_gs.best_estimator_)\n",
    "\n",
    "    return outcome, clf_rs"
   ]
  },
  {
   "cell_type": "code",
   "execution_count": 10,
   "metadata": {},
   "outputs": [],
   "source": [
    "def progressbar(it, prefix=\"\", size=60, file=sys.stdout):\n",
    "    count = len(it)\n",
    "    def show(j):\n",
    "        x = int(size*j/count)\n",
    "        file.write(\"%s[%s%s] %i/%i\\r\" % (prefix, \"#\"*x, \".\"*(size-x), j, count))\n",
    "        file.flush()        \n",
    "    show(0)\n",
    "    for i, item in enumerate(it):\n",
    "        yield item\n",
    "        show(i+1)\n",
    "    file.write(\"\\n\")\n",
    "    file.flush()"
   ]
  },
  {
   "cell_type": "markdown",
   "metadata": {},
   "source": [
    "### Getting the report of different algorithms"
   ]
  },
  {
   "cell_type": "code",
   "execution_count": 11,
   "metadata": {},
   "outputs": [],
   "source": [
    "def start_training():\n",
    "    \n",
    "#     algos = {'DT_before_PCA':DT_before_PCA,\n",
    "#              'DT_with_PCA':DT_after_PCA,\n",
    "#             }\n",
    "    algos = {\n",
    "             'DT_with_PCA':DT_after_PCA,\n",
    "            }\n",
    "    expected_accuracy = 0.997\n",
    "    expected_FN = 2\n",
    "    \n",
    "    \n",
    "#     for c in progressbar(range(count), \"Training progress: \", 20):\n",
    "#         if 'DT with PCA_model.model' or 'DT before PCA_model.model' in glob.glob(\"*.model\"):\n",
    "#             break\n",
    "#     for c in range(count):\n",
    "    X_train, y_train, X_test, y_test = generate_data()        \n",
    "#     pca_X_train, pca_X_test = apply_PCA(X_train, X_test)\n",
    "#     print('\\n')\n",
    "#     start = time.perf_counter()\n",
    "\n",
    "    measurements = []\n",
    "    for k in algos.keys():\n",
    "        algo = algos[k]\n",
    "        outcome, clf = algo(X_train, y_train, X_test, y_test)\n",
    "        measurements.append(outcome)\n",
    "        if outcome[3] > expected_accuracy and outcome[2] <= expected_FN: # outcome[2] -> False Negative and  outcome[3] -> Prediction Accuracy\n",
    "            # Save the model for future use \n",
    "            print('############ Trained a model with expected accuracy!..###########')\n",
    "            filename = k + '_model.model'\n",
    "            joblib.dump(clf, filename)\n",
    "\n",
    "#     print(\"Report: \\n\")\n",
    "    \n",
    "#     measurements.append() \n",
    "#     df_outcome = pd.DataFrame(measurements, columns=cols)\n",
    "#     df_outcome.index = list(algos.keys()) \n",
    "#     print(df_outcome)\n",
    "    return measurements[0]\n",
    "    \n",
    "#     print(\"Time Taken for execution is \", round(finish-start, 2), 'Seconds\\n\\n')\n",
    "    "
   ]
  },
  {
   "cell_type": "markdown",
   "metadata": {},
   "source": [
    "### Testing stage for evaluation of the trained model!"
   ]
  },
  {
   "cell_type": "code",
   "execution_count": 12,
   "metadata": {},
   "outputs": [
    {
     "name": "stdout",
     "output_type": "stream",
     "text": [
      "Training in progress with a random dataset for each iteration\n",
      "############ Trained a model with expected accuracy!..###########\n",
      "History of experiments as follows \n",
      "\n",
      "   Val_Accuracy  FP  FN  Accuracy    Recall  Precision   F1Score Time_elapsed\n",
      "0      0.992933   4   3  0.993256  0.995130   0.993517  0.994323    6.58 Secs\n",
      "1      0.994536   0   5  0.995183  0.992343   1.000000  0.996157    5.68 Secs\n",
      "2      0.993895   2   4  0.994220  0.993162   0.996569  0.994863     5.3 Secs\n",
      "3      0.991324   2   2  0.996146  0.996748   0.996748  0.996748    6.07 Secs\n",
      "4      0.991003   1   3  0.996146  0.995238   0.998408  0.996820    5.98 Secs\n",
      "5      0.992608   3   3  0.994220  0.995370   0.995370  0.995370    5.96 Secs\n",
      "6      0.993254   3   6  0.991329  0.990536   0.995246  0.992885    5.68 Secs\n",
      "7      0.992292   3   0  0.997110  1.000000   0.995177  0.997583    5.89 Secs\n",
      "Experiment Completed\n"
     ]
    }
   ],
   "source": [
    "# Finding the best model!!\n",
    "f1 = 'DT_with_PCA_model.model' #file name for persistant storage\n",
    "cols = ['Val_Accuracy', 'FP', 'FN', 'Accuracy', 'Recall', 'Precision', 'F1Score', 'Time_elapsed']\n",
    "message = 'Training in progress with a random dataset for each iteration'\n",
    "outcome = []\n",
    "print(message)\n",
    "while True:\n",
    "    m = start_training()\n",
    "    outcome.append(m)\n",
    "    if f1 in glob.glob(\"*.model\"):\n",
    "        print('History of experiments as follows \\n')\n",
    "        break\n",
    "# print(outcome)\n",
    "df_outcome = pd.DataFrame(outcome, columns=cols)\n",
    "print(df_outcome)\n",
    "print('Experiment Completed')"
   ]
  },
  {
   "cell_type": "code",
   "execution_count": 13,
   "metadata": {},
   "outputs": [
    {
     "name": "stdout",
     "output_type": "stream",
     "text": [
      "['DT_with_PCA_model.model']\n"
     ]
    }
   ],
   "source": [
    "print(glob.glob(\"*.model\"))"
   ]
  },
  {
   "cell_type": "code",
   "execution_count": 14,
   "metadata": {},
   "outputs": [],
   "source": [
    "pre_trained_model = joblib.load(\"DT_with_PCA_model.model\")"
   ]
  },
  {
   "cell_type": "code",
   "execution_count": null,
   "metadata": {},
   "outputs": [],
   "source": []
  },
  {
   "cell_type": "code",
   "execution_count": 16,
   "metadata": {},
   "outputs": [
    {
     "data": {
      "text/html": [
       "<div>\n",
       "<style scoped>\n",
       "    .dataframe tbody tr th:only-of-type {\n",
       "        vertical-align: middle;\n",
       "    }\n",
       "\n",
       "    .dataframe tbody tr th {\n",
       "        vertical-align: top;\n",
       "    }\n",
       "\n",
       "    .dataframe thead th {\n",
       "        text-align: right;\n",
       "    }\n",
       "</style>\n",
       "<table border=\"1\" class=\"dataframe\">\n",
       "  <thead>\n",
       "    <tr style=\"text-align: right;\">\n",
       "      <th></th>\n",
       "      <th>FP</th>\n",
       "      <th>FN</th>\n",
       "      <th>Accuracy</th>\n",
       "      <th>Recall</th>\n",
       "      <th>Precision</th>\n",
       "      <th>F1Score</th>\n",
       "    </tr>\n",
       "  </thead>\n",
       "  <tbody>\n",
       "    <tr>\n",
       "      <td>0</td>\n",
       "      <td>3</td>\n",
       "      <td>1</td>\n",
       "      <td>0.999036</td>\n",
       "      <td>0.999602</td>\n",
       "      <td>0.998808</td>\n",
       "      <td>0.999205</td>\n",
       "    </tr>\n",
       "    <tr>\n",
       "      <td>1</td>\n",
       "      <td>3</td>\n",
       "      <td>1</td>\n",
       "      <td>0.999036</td>\n",
       "      <td>0.999602</td>\n",
       "      <td>0.998808</td>\n",
       "      <td>0.999205</td>\n",
       "    </tr>\n",
       "    <tr>\n",
       "      <td>2</td>\n",
       "      <td>3</td>\n",
       "      <td>1</td>\n",
       "      <td>0.999036</td>\n",
       "      <td>0.999602</td>\n",
       "      <td>0.998808</td>\n",
       "      <td>0.999205</td>\n",
       "    </tr>\n",
       "    <tr>\n",
       "      <td>3</td>\n",
       "      <td>3</td>\n",
       "      <td>1</td>\n",
       "      <td>0.999036</td>\n",
       "      <td>0.999602</td>\n",
       "      <td>0.998808</td>\n",
       "      <td>0.999205</td>\n",
       "    </tr>\n",
       "    <tr>\n",
       "      <td>4</td>\n",
       "      <td>3</td>\n",
       "      <td>1</td>\n",
       "      <td>0.999036</td>\n",
       "      <td>0.999602</td>\n",
       "      <td>0.998808</td>\n",
       "      <td>0.999205</td>\n",
       "    </tr>\n",
       "    <tr>\n",
       "      <td>5</td>\n",
       "      <td>3</td>\n",
       "      <td>1</td>\n",
       "      <td>0.999036</td>\n",
       "      <td>0.999602</td>\n",
       "      <td>0.998808</td>\n",
       "      <td>0.999205</td>\n",
       "    </tr>\n",
       "    <tr>\n",
       "      <td>6</td>\n",
       "      <td>3</td>\n",
       "      <td>1</td>\n",
       "      <td>0.999036</td>\n",
       "      <td>0.999602</td>\n",
       "      <td>0.998808</td>\n",
       "      <td>0.999205</td>\n",
       "    </tr>\n",
       "    <tr>\n",
       "      <td>7</td>\n",
       "      <td>3</td>\n",
       "      <td>1</td>\n",
       "      <td>0.999036</td>\n",
       "      <td>0.999602</td>\n",
       "      <td>0.998808</td>\n",
       "      <td>0.999205</td>\n",
       "    </tr>\n",
       "    <tr>\n",
       "      <td>8</td>\n",
       "      <td>3</td>\n",
       "      <td>1</td>\n",
       "      <td>0.999036</td>\n",
       "      <td>0.999602</td>\n",
       "      <td>0.998808</td>\n",
       "      <td>0.999205</td>\n",
       "    </tr>\n",
       "    <tr>\n",
       "      <td>9</td>\n",
       "      <td>3</td>\n",
       "      <td>1</td>\n",
       "      <td>0.999036</td>\n",
       "      <td>0.999602</td>\n",
       "      <td>0.998808</td>\n",
       "      <td>0.999205</td>\n",
       "    </tr>\n",
       "  </tbody>\n",
       "</table>\n",
       "</div>"
      ],
      "text/plain": [
       "   FP  FN  Accuracy    Recall  Precision   F1Score\n",
       "0   3   1  0.999036  0.999602   0.998808  0.999205\n",
       "1   3   1  0.999036  0.999602   0.998808  0.999205\n",
       "2   3   1  0.999036  0.999602   0.998808  0.999205\n",
       "3   3   1  0.999036  0.999602   0.998808  0.999205\n",
       "4   3   1  0.999036  0.999602   0.998808  0.999205\n",
       "5   3   1  0.999036  0.999602   0.998808  0.999205\n",
       "6   3   1  0.999036  0.999602   0.998808  0.999205\n",
       "7   3   1  0.999036  0.999602   0.998808  0.999205\n",
       "8   3   1  0.999036  0.999602   0.998808  0.999205\n",
       "9   3   1  0.999036  0.999602   0.998808  0.999205"
      ]
     },
     "execution_count": 16,
     "metadata": {},
     "output_type": "execute_result"
    }
   ],
   "source": [
    "df = pd.read_excel('../HW_TESLA.xlt')\n",
    "df_results = []\n",
    "cols = ['FP', 'FN', 'Accuracy', 'Recall', 'Precision', 'F1Score']\n",
    "# print(cols)\n",
    "for _ in range(10):\n",
    "    df_test = df.sample(n=4150)\n",
    "    X_test = df_test.drop('STATIC', axis=1)\n",
    "    y_test = df_test['STATIC']\n",
    "    y_pred = pre_trained_model.predict(X_test)\n",
    "    conf_mat=confusion_matrix(y_test,y_pred)\n",
    "    df_results.append(list(generate_report(conf_mat, y_test, y_pred)))\n",
    "\n",
    "df_prediction_status = pd.DataFrame(df_results, columns=cols)\n",
    "df_prediction_status"
   ]
  },
  {
   "cell_type": "code",
   "execution_count": null,
   "metadata": {},
   "outputs": [],
   "source": []
  },
  {
   "cell_type": "code",
   "execution_count": null,
   "metadata": {},
   "outputs": [],
   "source": []
  }
 ],
 "metadata": {
  "kernelspec": {
   "display_name": "Python 3",
   "language": "python",
   "name": "python3"
  },
  "language_info": {
   "codemirror_mode": {
    "name": "ipython",
    "version": 3
   },
   "file_extension": ".py",
   "mimetype": "text/x-python",
   "name": "python",
   "nbconvert_exporter": "python",
   "pygments_lexer": "ipython3",
   "version": "3.6.8"
  }
 },
 "nbformat": 4,
 "nbformat_minor": 4
}
