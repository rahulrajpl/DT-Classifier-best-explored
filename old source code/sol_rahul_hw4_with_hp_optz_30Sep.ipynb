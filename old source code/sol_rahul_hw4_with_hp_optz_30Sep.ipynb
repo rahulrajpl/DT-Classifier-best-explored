{
 "cells": [
  {
   "cell_type": "code",
   "execution_count": 1,
   "metadata": {},
   "outputs": [],
   "source": [
    "import pandas as pd\n",
    "import numpy as np\n",
    "import time\n",
    "from sklearn.model_selection import train_test_split, cross_val_score, ShuffleSplit, GridSearchCV, RandomizedSearchCV\n",
    "from sklearn.preprocessing import StandardScaler,LabelEncoder\n",
    "from sklearn.decomposition import PCA\n",
    "from sklearn.svm import SVC\n",
    "from sklearn.linear_model import LogisticRegression\n",
    "from sklearn.tree import DecisionTreeClassifier\n",
    "from sklearn.ensemble import RandomForestClassifier\n",
    "from sklearn.metrics import confusion_matrix, accuracy_score, classification_report, recall_score, f1_score, precision_score\n",
    "from matplotlib import pyplot as  plt\n",
    "import concurrent.futures\n",
    "import warnings\n",
    "warnings.filterwarnings('ignore')"
   ]
  },
  {
   "cell_type": "code",
   "execution_count": 2,
   "metadata": {},
   "outputs": [],
   "source": [
    "def generate_data():\n",
    "    \"\"\"\n",
    "    This function is to generate dataset for cross validation with 25% data available\n",
    "    \"\"\"\n",
    "    df = pd.read_excel('HW_TESLA.xlt')\n",
    "    le=LabelEncoder().fit_transform(df['STATIC'])\n",
    "    df_train, df_test = train_test_split(df, test_size=0.25) # 75 % training data\n",
    "    #Separating feature matrix and corresponding labels\n",
    "    X_train = df_train.drop('STATIC',axis=1)\n",
    "    X_test = df_test.drop('STATIC',axis=1)\n",
    "    y_train = df_train['STATIC']\n",
    "    y_test = df_test['STATIC']\n",
    "    return X_train, y_train, X_test, y_test"
   ]
  },
  {
   "cell_type": "code",
   "execution_count": 3,
   "metadata": {},
   "outputs": [],
   "source": [
    "def generate_report(conf_mat, y_test, y_pred):\n",
    "\n",
    "    FP = conf_mat[0][1]\n",
    "    FN = conf_mat[1][0]\n",
    "    accuracy = accuracy_score(y_test, y_pred)\n",
    "    recall = recall_score(y_test, y_pred)\n",
    "    precision = precision_score(y_test, y_pred)\n",
    "    f1score = f1_score(y_test, y_pred)\n",
    "\n",
    "    return FP, FN, accuracy, recall, precision, f1score"
   ]
  },
  {
   "cell_type": "markdown",
   "metadata": {},
   "source": [
    "### Generating Dataset "
   ]
  },
  {
   "cell_type": "code",
   "execution_count": 4,
   "metadata": {},
   "outputs": [],
   "source": [
    "X_train, y_train, X_test, y_test = generate_data()"
   ]
  },
  {
   "cell_type": "code",
   "execution_count": null,
   "metadata": {},
   "outputs": [],
   "source": []
  },
  {
   "cell_type": "markdown",
   "metadata": {},
   "source": [
    "### Applying Decision Tree before PCA "
   ]
  },
  {
   "cell_type": "code",
   "execution_count": 17,
   "metadata": {},
   "outputs": [],
   "source": [
    "def DT_before_PCA():\n",
    "    \n",
    "    p_grid = {'criterion': ['gini','entropy'],\n",
    "                   'max_depth': [2,3,4,5,6,7],\n",
    "                   'min_samples_split':[2,3,4,5,10,20,50],\n",
    "                   }\n",
    "    clf = DecisionTreeClassifier()\n",
    "    clf_random = GridSearchCV(estimator=clf, param_grid=p_grid,\n",
    "                             cv = 3, n_jobs = -1, scoring='recall')\n",
    "    clf_random.fit(X_train, y_train)\n",
    "    #     cv = ShuffleSplit(n_splits=10, test_size=0.33, random_state=0)\n",
    "    scores = cross_val_score(clf_random, X_train, y_train, cv=3)\n",
    "    val_score = (scores.mean(), scores.std() * 2)\n",
    "\n",
    "    y_pred = clf_random.predict(X_test)\n",
    "    conf_mat=confusion_matrix(y_test,y_pred)\n",
    "    outcome = list(generate_report(conf_mat, y_test, y_pred))\n",
    "    outcome.insert(0, val_score[0])\n",
    "#     print(clf_random.best_estimator_)\n",
    "    return outcome"
   ]
  },
  {
   "cell_type": "code",
   "execution_count": 18,
   "metadata": {},
   "outputs": [
    {
     "data": {
      "text/plain": [
       "[0.9937164512636211,\n",
       " 3,\n",
       " 4,\n",
       " 0.9932562620423893,\n",
       " 0.9933774834437086,\n",
       " 0.9950248756218906,\n",
       " 0.9942004971002485]"
      ]
     },
     "execution_count": 18,
     "metadata": {},
     "output_type": "execute_result"
    }
   ],
   "source": [
    "DT_before_PCA()"
   ]
  },
  {
   "cell_type": "markdown",
   "metadata": {},
   "source": [
    "### Calculating n_components in PCA for feature reduction"
   ]
  },
  {
   "cell_type": "code",
   "execution_count": 7,
   "metadata": {},
   "outputs": [
    {
     "name": "stdout",
     "output_type": "stream",
     "text": [
      "[ 51.8  90.2  97.8  99.7 100.  100.  100.  100.  100.  100.  100.  100.\n",
      " 100.  100.  100.  100.  100.  100.  100.  100.  100.  100.  100.  100.\n",
      " 100.  100.  100.  100.  100.  100.  100.  100.  100.  100.  100.  100.\n",
      " 100.  100.  100.  100.  100.  100.  100.  100.  100.  100.  100.  100.\n",
      " 100.  100.  100.  100.  100.  100.  100.  100.  100.  100.  100.  100.\n",
      " 100.  100.  100.  100.  100.  100.  100.  100.  100.  100.  100.  100.\n",
      " 100.  100.  100.  100.  100.  100.  100.  100.  100.  100.  100.  100.\n",
      " 100.  100.  100.  100.  100.  100.  100.  100.  100.  100.  100.  100.\n",
      " 100.  100.  100.  100.  100.  100.  100.  100.  100.  100.  100.  100.\n",
      " 100.  100.  100.  100.  100.  100.  100.  100.  100.  100.  100.  100.\n",
      " 100.  100.  100.  100.  100.  100.  100.  100.  100.  100.  100.  100. ]\n"
     ]
    },
    {
     "data": {
      "text/plain": [
       "[<matplotlib.lines.Line2D at 0x7f00a190afd0>]"
      ]
     },
     "execution_count": 7,
     "metadata": {},
     "output_type": "execute_result"
    },
    {
     "data": {
      "image/png": "[encoded data removed]",
      "text/plain": [
       "<Figure size 432x288 with 1 Axes>"
      ]
     },
     "metadata": {
      "needs_background": "light"
     },
     "output_type": "display_data"
    }
   ],
   "source": [
    "#Centering data by mean i.e. subtracting mean from each data and doing PCA\n",
    "# X_train, y_train, X_test, y_test = generate_data()\n",
    "scaler=StandardScaler().fit(X_train)\n",
    "X_train=scaler.transform(X_train)\n",
    "X_test=scaler.transform(X_test)\n",
    "\n",
    "\n",
    "covar_matrix=PCA()\n",
    "covar_matrix.fit(X_train)\n",
    "variance = covar_matrix.explained_variance_ratio_ #calculate variance ratios\n",
    "var=np.cumsum(np.round(covar_matrix.explained_variance_ratio_, decimals=3)*100)\n",
    "print(var) #cumulative sum of variance explained with [n] features\n",
    "\n",
    "plt.ylabel('% Variance Explained')\n",
    "plt.xlabel('# of Features')\n",
    "plt.title('PCA Analysis')\n",
    "plt.ylim(50,100.5)\n",
    "plt.xlim(0,10)\n",
    "plt.style.context('seaborn-whitegrid')\n",
    "\n",
    "\n",
    "plt.plot(var, marker='o')"
   ]
  },
  {
   "cell_type": "code",
   "execution_count": 8,
   "metadata": {},
   "outputs": [],
   "source": [
    "def apply_PCA(X_train, X_test):\n",
    "    # we can reduce number of features to 5 to capture 99.8 % variance in PCA\n",
    "    pca=PCA(n_components=5)\n",
    "    pca.fit(X_train)\n",
    "\n",
    "    # Get new feature matrices from pca\n",
    "    pca_X_train=pca.transform(X_train)\n",
    "    pca_X_test=pca.transform(X_test)\n",
    "    return pca_X_train, pca_X_test"
   ]
  },
  {
   "cell_type": "code",
   "execution_count": 9,
   "metadata": {},
   "outputs": [],
   "source": [
    "pca_X_train, pca_X_test = apply_PCA(X_train, X_test)"
   ]
  },
  {
   "cell_type": "markdown",
   "metadata": {},
   "source": [
    "### Running Decision Tree Algorithm after PCA"
   ]
  },
  {
   "cell_type": "code",
   "execution_count": 14,
   "metadata": {},
   "outputs": [],
   "source": [
    "def DT_after_PCA():\n",
    "    scoring = ['accuracy', 'recall']\n",
    "#     X_train, y_train, X_test, y_test = generate_data()\n",
    "#     pca_X_train, pca_X_test = apply_PCA(X_train, X_test)\n",
    "    \n",
    "\n",
    "    p_grid = {'criterion': ['gini','entropy'],\n",
    "               'max_depth': [2,3,4,5,6,7,8,9],\n",
    "               'min_samples_split':[2,3,4,5],\n",
    "               }\n",
    "\n",
    "    clf = DecisionTreeClassifier()\n",
    "    clf_gs = GridSearchCV(estimator=clf, param_grid=p_grid,\n",
    "                                cv = 3, n_jobs = -1, scoring=scoring, refit='recall')\n",
    "    clf_gs.fit(X_train, y_train)\n",
    "    scores = cross_val_score(clf_gs, X_train, y_train, cv=3)\n",
    "    val_score = (scores.mean(), scores.std() * 2)\n",
    "\n",
    "    y_pred = clf_gs.predict(X_test)\n",
    "    conf_mat=confusion_matrix(y_test,y_pred)\n",
    "    outcome = list(generate_report(conf_mat, y_test, y_pred))\n",
    "    outcome.insert(0, val_score[0])\n",
    "#     print(clf_gs.best_estimator_)\n",
    "\n",
    "    return outcome"
   ]
  },
  {
   "cell_type": "code",
   "execution_count": 15,
   "metadata": {},
   "outputs": [
    {
     "data": {
      "text/plain": [
       "[0.9937180968178273,\n",
       " 2,\n",
       " 5,\n",
       " 0.9932562620423893,\n",
       " 0.9917218543046358,\n",
       " 0.9966722129783694,\n",
       " 0.9941908713692946]"
      ]
     },
     "execution_count": 15,
     "metadata": {},
     "output_type": "execute_result"
    }
   ],
   "source": [
    "DT_after_PCA()"
   ]
  },
  {
   "cell_type": "markdown",
   "metadata": {},
   "source": [
    "### Running Logistic Regression after PCA"
   ]
  },
  {
   "cell_type": "code",
   "execution_count": 19,
   "metadata": {},
   "outputs": [],
   "source": [
    "def LR_after_PCA():\n",
    "#     X_train, y_train, X_test, y_test = generate_data()\n",
    "#     pca_X_train, pca_X_test = apply_PCA(X_train, X_test)\n",
    "\n",
    "    scoring = ['accuracy', 'f1']\n",
    "    random_grid = {'solver' : ['newton-cg','lbfgs', 'liblinear', 'sag', 'saga'],\n",
    "                   'C' : [.1,.2,.3,.4,.5,.6,.7,.8,.9,1],\n",
    "                   'max_iter':[100,200,300],\n",
    "                   \n",
    "                  }\n",
    "    \n",
    "    clf = LogisticRegression()\n",
    "    clf_random = GridSearchCV(estimator=clf, param_grid=random_grid,\n",
    "                             cv = 3, n_jobs = -1, scoring=scoring, refit='f1')\n",
    "    clf_random.fit(pca_X_train,y_train)\n",
    "\n",
    "    # Trying ShuffleSplit\n",
    "#     cv = ShuffleSplit(n_splits=10, test_size=0.33, random_state=0)\n",
    "    scores = cross_val_score(clf_random, pca_X_train, y_train, cv=5)\n",
    "#     print(\"cross_val_score Accuracy: %0.2f (+/- %0.2f)\" % (scores.mean(), scores.std() * 2))\n",
    "\n",
    "    y_pred = clf_random.predict(pca_X_test)\n",
    "    conf_mat=confusion_matrix(y_test,y_pred)\n",
    "    \n",
    "    outcome = list(generate_report(conf_mat, y_test, y_pred))\n",
    "    outcome.insert(0, scores[0])\n",
    "#     print(clf_random.best_estimator_)\n",
    "    return outcome"
   ]
  },
  {
   "cell_type": "code",
   "execution_count": 20,
   "metadata": {},
   "outputs": [
    {
     "data": {
      "text/plain": [
       "[0.9921052631578947,\n",
       " 0,\n",
       " 5,\n",
       " 0.9951830443159922,\n",
       " 0.9917218543046358,\n",
       " 1.0,\n",
       " 0.9958437240232751]"
      ]
     },
     "execution_count": 20,
     "metadata": {},
     "output_type": "execute_result"
    }
   ],
   "source": [
    "LR_after_PCA()"
   ]
  },
  {
   "cell_type": "markdown",
   "metadata": {},
   "source": [
    "### Running Linear SVM after PCA"
   ]
  },
  {
   "cell_type": "code",
   "execution_count": 24,
   "metadata": {},
   "outputs": [],
   "source": [
    "def SVM_after_PCA():\n",
    "#     start = time.perf_counter()\n",
    "#     X_train, y_train, X_test, y_test = generate_data()\n",
    "    \n",
    "#     p_grid = {\n",
    "#                    'C' : [.2, .3, .4, .5, .6, .7, .8, .9, 1],\n",
    "#                   'kernel': ['linear','poly','rbf','sigmoid'],\n",
    "#                   'degree': [2,3,4],\n",
    "#                   'gamma': ['scale','auto'],\n",
    "#                   'decision_function_shape': ['ovo','ovr'],\n",
    "#                   }\n",
    "    p_grid = {\n",
    "                   'C' : [.2, .3, .4, .5, .6, .7, .8, .9, 1],\n",
    "                  'kernel': ['linear','poly','rbf','sigmoid'],\n",
    "                  }\n",
    "    \n",
    "    clf = SVC()\n",
    "    clf_random = RandomizedSearchCV(estimator=clf, param_distributions=p_grid, \n",
    "                                    n_iter = 100, cv = 3, random_state=42, \n",
    "                                    n_jobs = -1, scoring='f1')\n",
    "#     clf_gs = GridSearchCV(estimator=clf, param_grid=p_grid, \n",
    "#                                     cv = 3, n_jobs = -1, scoring='f1')\n",
    "    clf_random.fit(pca_X_train,y_train)\n",
    "\n",
    "    # Trying ShuffleSplit\n",
    "#     cv = ShuffleSplit(n_splits=10, test_size=0.33, random_state=0)\n",
    "    scores = cross_val_score(clf_random, pca_X_train, y_train, cv=3)\n",
    "#     print(\"cross_val_score Accuracy: %0.2f (+/- %0.2f)\" % (scores.mean(), scores.std() * 2))\n",
    "\n",
    "    y_pred = clf_random.predict(pca_X_test)\n",
    "    conf_mat=confusion_matrix(y_test,y_pred)\n",
    "    \n",
    "    outcome = list(generate_report(conf_mat, y_test, y_pred))\n",
    "    outcome.insert(0, scores[0])\n",
    "    \n",
    "    return outcome\n",
    "    "
   ]
  },
  {
   "cell_type": "code",
   "execution_count": 22,
   "metadata": {},
   "outputs": [
    {
     "data": {
      "text/plain": [
       "[0.9952830188679246,\n",
       " 2,\n",
       " 5,\n",
       " 0.9932562620423893,\n",
       " 0.9917218543046358,\n",
       " 0.9966722129783694,\n",
       " 0.9941908713692946]"
      ]
     },
     "execution_count": 22,
     "metadata": {},
     "output_type": "execute_result"
    }
   ],
   "source": [
    "SVM_after_PCA()"
   ]
  },
  {
   "cell_type": "code",
   "execution_count": null,
   "metadata": {},
   "outputs": [],
   "source": [
    "def RF_after_PCA():\n",
    "        \n",
    "    n_estimators = [int(x) for x in np.linspace(start = 10, stop = 50, num = 5)]\n",
    "    max_features = ['auto', 'sqrt']\n",
    "    max_depth = list(range(1,10,1))\n",
    "    max_depth.append(None)\n",
    "    min_samples_split = [2, 5, 10]\n",
    "    min_samples_leaf = [1, 2, 4]\n",
    "    bootstrap = [True, False]\n",
    "    random_grid = {'n_estimators': n_estimators,\n",
    "                   'max_depth': max_depth,\n",
    "                   'min_samples_split':min_samples_split,\n",
    "                   'bootstrap': bootstrap}\n",
    "    \n",
    "    clf = RandomForestClassifier()\n",
    "    clf_random = RandomizedSearchCV(estimator = clf, param_distributions = random_grid, \n",
    "                                  n_iter = 100, cv = 3, random_state=42, n_jobs = -1)\n",
    "    \n",
    "    clf_random.fit(pca_X_train,y_train)\n",
    "    \n",
    "    # Trying ShuffleSplit\n",
    "#     cv = ShuffleSplit(n_splits=10, test_size=0.33, random_state=0)\n",
    "    scores = cross_val_score(clf_random, pca_X_train, y_train, cv=3)\n",
    "#     print(\"cross_val_score Accuracy: %0.2f (+/- %0.2f)\" % (scores.mean(), scores.std() * 2))\n",
    "\n",
    "    y_pred = clf_random.predict(pca_X_test)\n",
    "    conf_mat=confusion_matrix(y_test,y_pred)\n",
    "    \n",
    "    outcome = list(generate_report(conf_mat, y_test, y_pred))\n",
    "    outcome.insert(0, scores[0])\n",
    "    print(clf_random.best_params_)\n",
    "#     print('Improvement of {:0.2f}%.'.format( 100 * (random_accuracy - base_accuracy) / base_accuracy))\n",
    "    return outcome"
   ]
  },
  {
   "cell_type": "code",
   "execution_count": null,
   "metadata": {},
   "outputs": [],
   "source": [
    "RF_after_PCA()"
   ]
  },
  {
   "cell_type": "markdown",
   "metadata": {},
   "source": [
    "### Getting the report of different algorithms"
   ]
  },
  {
   "cell_type": "code",
   "execution_count": 33,
   "metadata": {},
   "outputs": [
    {
     "name": "stderr",
     "output_type": "stream",
     "text": [
      "\n",
      "\n",
      "\n",
      "\n",
      "\n",
      "\n",
      "\n",
      "\n",
      "  0%|          | 0/4 [00:00<?, ?it/s]\u001b[A\u001b[A\u001b[A\u001b[A\u001b[A\u001b[A\u001b[A\u001b[A\n",
      "\n",
      "\n",
      "\n",
      "\n",
      "\n",
      "\n",
      "\n",
      "\n",
      "  0%|          | 0/10 [00:00<?, ?it/s]\u001b[A\u001b[A\u001b[A\u001b[A\u001b[A\u001b[A\u001b[A\u001b[A\u001b[A\n",
      "\n",
      "\n",
      "\n",
      "\n",
      "\n",
      "\n",
      "\n",
      "\n",
      " 10%|█         | 1/10 [00:11<01:43, 11.50s/it]\u001b[A\u001b[A\u001b[A\u001b[A\u001b[A\u001b[A\u001b[A\u001b[A\u001b[A\n",
      "\n",
      "\n",
      "\n",
      "\n",
      "\n",
      "\n",
      "\n",
      "\n",
      " 20%|██        | 2/10 [00:21<01:29, 11.14s/it]\u001b[A\u001b[A\u001b[A\u001b[A\u001b[A\u001b[A\u001b[A\u001b[A\u001b[A"
     ]
    },
    {
     "ename": "KeyboardInterrupt",
     "evalue": "",
     "output_type": "error",
     "traceback": [
      "\u001b[0;31m---------------------------------------------------------------------------\u001b[0m",
      "\u001b[0;31mKeyboardInterrupt\u001b[0m                         Traceback (most recent call last)",
      "\u001b[0;32m<ipython-input-33-d38f966e414f>\u001b[0m in \u001b[0;36m<module>\u001b[0;34m\u001b[0m\n\u001b[1;32m     20\u001b[0m         \u001b[0mX_train\u001b[0m\u001b[0;34m,\u001b[0m \u001b[0my_train\u001b[0m\u001b[0;34m,\u001b[0m \u001b[0mX_test\u001b[0m\u001b[0;34m,\u001b[0m \u001b[0my_test\u001b[0m \u001b[0;34m=\u001b[0m \u001b[0mgenerate_data\u001b[0m\u001b[0;34m(\u001b[0m\u001b[0;34m)\u001b[0m\u001b[0;34m\u001b[0m\u001b[0;34m\u001b[0m\u001b[0m\n\u001b[1;32m     21\u001b[0m         \u001b[0mpca_X_train\u001b[0m\u001b[0;34m,\u001b[0m \u001b[0mpca_X_test\u001b[0m \u001b[0;34m=\u001b[0m \u001b[0mapply_PCA\u001b[0m\u001b[0;34m(\u001b[0m\u001b[0mX_train\u001b[0m\u001b[0;34m,\u001b[0m \u001b[0mX_test\u001b[0m\u001b[0;34m)\u001b[0m\u001b[0;34m\u001b[0m\u001b[0;34m\u001b[0m\u001b[0m\n\u001b[0;32m---> 22\u001b[0;31m         \u001b[0moutcome\u001b[0m \u001b[0;34m=\u001b[0m \u001b[0malgo\u001b[0m\u001b[0;34m(\u001b[0m\u001b[0;34m)\u001b[0m\u001b[0;34m\u001b[0m\u001b[0;34m\u001b[0m\u001b[0m\n\u001b[0m\u001b[1;32m     23\u001b[0m         \u001b[0mmeasurements\u001b[0m\u001b[0;34m.\u001b[0m\u001b[0mappend\u001b[0m\u001b[0;34m(\u001b[0m\u001b[0moutcome\u001b[0m\u001b[0;34m)\u001b[0m\u001b[0;34m\u001b[0m\u001b[0;34m\u001b[0m\u001b[0m\n\u001b[1;32m     24\u001b[0m \u001b[0;34m\u001b[0m\u001b[0m\n",
      "\u001b[0;32m<ipython-input-17-1cf41f80054f>\u001b[0m in \u001b[0;36mDT_before_PCA\u001b[0;34m()\u001b[0m\n\u001b[1;32m      8\u001b[0m     clf_random = GridSearchCV(estimator=clf, param_grid=p_grid,\n\u001b[1;32m      9\u001b[0m                              cv = 3, n_jobs = -1, scoring='recall')\n\u001b[0;32m---> 10\u001b[0;31m     \u001b[0mclf_random\u001b[0m\u001b[0;34m.\u001b[0m\u001b[0mfit\u001b[0m\u001b[0;34m(\u001b[0m\u001b[0mX_train\u001b[0m\u001b[0;34m,\u001b[0m \u001b[0my_train\u001b[0m\u001b[0;34m)\u001b[0m\u001b[0;34m\u001b[0m\u001b[0;34m\u001b[0m\u001b[0m\n\u001b[0m\u001b[1;32m     11\u001b[0m     \u001b[0;31m#     cv = ShuffleSplit(n_splits=10, test_size=0.33, random_state=0)\u001b[0m\u001b[0;34m\u001b[0m\u001b[0;34m\u001b[0m\u001b[0;34m\u001b[0m\u001b[0m\n\u001b[1;32m     12\u001b[0m     \u001b[0mscores\u001b[0m \u001b[0;34m=\u001b[0m \u001b[0mcross_val_score\u001b[0m\u001b[0;34m(\u001b[0m\u001b[0mclf_random\u001b[0m\u001b[0;34m,\u001b[0m \u001b[0mX_train\u001b[0m\u001b[0;34m,\u001b[0m \u001b[0my_train\u001b[0m\u001b[0;34m,\u001b[0m \u001b[0mcv\u001b[0m\u001b[0;34m=\u001b[0m\u001b[0;36m3\u001b[0m\u001b[0;34m)\u001b[0m\u001b[0;34m\u001b[0m\u001b[0;34m\u001b[0m\u001b[0m\n",
      "\u001b[0;32m~/Documents/HW4 - docs/venv/lib/python3.6/site-packages/sklearn/model_selection/_search.py\u001b[0m in \u001b[0;36mfit\u001b[0;34m(self, X, y, groups, **fit_params)\u001b[0m\n\u001b[1;32m    686\u001b[0m                 \u001b[0;32mreturn\u001b[0m \u001b[0mresults\u001b[0m\u001b[0;34m\u001b[0m\u001b[0;34m\u001b[0m\u001b[0m\n\u001b[1;32m    687\u001b[0m \u001b[0;34m\u001b[0m\u001b[0m\n\u001b[0;32m--> 688\u001b[0;31m             \u001b[0mself\u001b[0m\u001b[0;34m.\u001b[0m\u001b[0m_run_search\u001b[0m\u001b[0;34m(\u001b[0m\u001b[0mevaluate_candidates\u001b[0m\u001b[0;34m)\u001b[0m\u001b[0;34m\u001b[0m\u001b[0;34m\u001b[0m\u001b[0m\n\u001b[0m\u001b[1;32m    689\u001b[0m \u001b[0;34m\u001b[0m\u001b[0m\n\u001b[1;32m    690\u001b[0m         \u001b[0;31m# For multi-metric evaluation, store the best_index_, best_params_ and\u001b[0m\u001b[0;34m\u001b[0m\u001b[0;34m\u001b[0m\u001b[0;34m\u001b[0m\u001b[0m\n",
      "\u001b[0;32m~/Documents/HW4 - docs/venv/lib/python3.6/site-packages/sklearn/model_selection/_search.py\u001b[0m in \u001b[0;36m_run_search\u001b[0;34m(self, evaluate_candidates)\u001b[0m\n\u001b[1;32m   1147\u001b[0m     \u001b[0;32mdef\u001b[0m \u001b[0m_run_search\u001b[0m\u001b[0;34m(\u001b[0m\u001b[0mself\u001b[0m\u001b[0;34m,\u001b[0m \u001b[0mevaluate_candidates\u001b[0m\u001b[0;34m)\u001b[0m\u001b[0;34m:\u001b[0m\u001b[0;34m\u001b[0m\u001b[0;34m\u001b[0m\u001b[0m\n\u001b[1;32m   1148\u001b[0m         \u001b[0;34m\"\"\"Search all candidates in param_grid\"\"\"\u001b[0m\u001b[0;34m\u001b[0m\u001b[0;34m\u001b[0m\u001b[0m\n\u001b[0;32m-> 1149\u001b[0;31m         \u001b[0mevaluate_candidates\u001b[0m\u001b[0;34m(\u001b[0m\u001b[0mParameterGrid\u001b[0m\u001b[0;34m(\u001b[0m\u001b[0mself\u001b[0m\u001b[0;34m.\u001b[0m\u001b[0mparam_grid\u001b[0m\u001b[0;34m)\u001b[0m\u001b[0;34m)\u001b[0m\u001b[0;34m\u001b[0m\u001b[0;34m\u001b[0m\u001b[0m\n\u001b[0m\u001b[1;32m   1150\u001b[0m \u001b[0;34m\u001b[0m\u001b[0m\n\u001b[1;32m   1151\u001b[0m \u001b[0;34m\u001b[0m\u001b[0m\n",
      "\u001b[0;32m~/Documents/HW4 - docs/venv/lib/python3.6/site-packages/sklearn/model_selection/_search.py\u001b[0m in \u001b[0;36mevaluate_candidates\u001b[0;34m(candidate_params)\u001b[0m\n\u001b[1;32m    665\u001b[0m                                \u001b[0;32mfor\u001b[0m \u001b[0mparameters\u001b[0m\u001b[0;34m,\u001b[0m \u001b[0;34m(\u001b[0m\u001b[0mtrain\u001b[0m\u001b[0;34m,\u001b[0m \u001b[0mtest\u001b[0m\u001b[0;34m)\u001b[0m\u001b[0;34m\u001b[0m\u001b[0;34m\u001b[0m\u001b[0m\n\u001b[1;32m    666\u001b[0m                                in product(candidate_params,\n\u001b[0;32m--> 667\u001b[0;31m                                           cv.split(X, y, groups)))\n\u001b[0m\u001b[1;32m    668\u001b[0m \u001b[0;34m\u001b[0m\u001b[0m\n\u001b[1;32m    669\u001b[0m                 \u001b[0;32mif\u001b[0m \u001b[0mlen\u001b[0m\u001b[0;34m(\u001b[0m\u001b[0mout\u001b[0m\u001b[0;34m)\u001b[0m \u001b[0;34m<\u001b[0m \u001b[0;36m1\u001b[0m\u001b[0;34m:\u001b[0m\u001b[0;34m\u001b[0m\u001b[0;34m\u001b[0m\u001b[0m\n",
      "\u001b[0;32m~/Documents/HW4 - docs/venv/lib/python3.6/site-packages/joblib/parallel.py\u001b[0m in \u001b[0;36m__call__\u001b[0;34m(self, iterable)\u001b[0m\n\u001b[1;32m    932\u001b[0m \u001b[0;34m\u001b[0m\u001b[0m\n\u001b[1;32m    933\u001b[0m             \u001b[0;32mwith\u001b[0m \u001b[0mself\u001b[0m\u001b[0;34m.\u001b[0m\u001b[0m_backend\u001b[0m\u001b[0;34m.\u001b[0m\u001b[0mretrieval_context\u001b[0m\u001b[0;34m(\u001b[0m\u001b[0;34m)\u001b[0m\u001b[0;34m:\u001b[0m\u001b[0;34m\u001b[0m\u001b[0;34m\u001b[0m\u001b[0m\n\u001b[0;32m--> 934\u001b[0;31m                 \u001b[0mself\u001b[0m\u001b[0;34m.\u001b[0m\u001b[0mretrieve\u001b[0m\u001b[0;34m(\u001b[0m\u001b[0;34m)\u001b[0m\u001b[0;34m\u001b[0m\u001b[0;34m\u001b[0m\u001b[0m\n\u001b[0m\u001b[1;32m    935\u001b[0m             \u001b[0;31m# Make sure that we get a last message telling us we are done\u001b[0m\u001b[0;34m\u001b[0m\u001b[0;34m\u001b[0m\u001b[0;34m\u001b[0m\u001b[0m\n\u001b[1;32m    936\u001b[0m             \u001b[0melapsed_time\u001b[0m \u001b[0;34m=\u001b[0m \u001b[0mtime\u001b[0m\u001b[0;34m.\u001b[0m\u001b[0mtime\u001b[0m\u001b[0;34m(\u001b[0m\u001b[0;34m)\u001b[0m \u001b[0;34m-\u001b[0m \u001b[0mself\u001b[0m\u001b[0;34m.\u001b[0m\u001b[0m_start_time\u001b[0m\u001b[0;34m\u001b[0m\u001b[0;34m\u001b[0m\u001b[0m\n",
      "\u001b[0;32m~/Documents/HW4 - docs/venv/lib/python3.6/site-packages/joblib/parallel.py\u001b[0m in \u001b[0;36mretrieve\u001b[0;34m(self)\u001b[0m\n\u001b[1;32m    831\u001b[0m             \u001b[0;32mtry\u001b[0m\u001b[0;34m:\u001b[0m\u001b[0;34m\u001b[0m\u001b[0;34m\u001b[0m\u001b[0m\n\u001b[1;32m    832\u001b[0m                 \u001b[0;32mif\u001b[0m \u001b[0mgetattr\u001b[0m\u001b[0;34m(\u001b[0m\u001b[0mself\u001b[0m\u001b[0;34m.\u001b[0m\u001b[0m_backend\u001b[0m\u001b[0;34m,\u001b[0m \u001b[0;34m'supports_timeout'\u001b[0m\u001b[0;34m,\u001b[0m \u001b[0;32mFalse\u001b[0m\u001b[0;34m)\u001b[0m\u001b[0;34m:\u001b[0m\u001b[0;34m\u001b[0m\u001b[0;34m\u001b[0m\u001b[0m\n\u001b[0;32m--> 833\u001b[0;31m                     \u001b[0mself\u001b[0m\u001b[0;34m.\u001b[0m\u001b[0m_output\u001b[0m\u001b[0;34m.\u001b[0m\u001b[0mextend\u001b[0m\u001b[0;34m(\u001b[0m\u001b[0mjob\u001b[0m\u001b[0;34m.\u001b[0m\u001b[0mget\u001b[0m\u001b[0;34m(\u001b[0m\u001b[0mtimeout\u001b[0m\u001b[0;34m=\u001b[0m\u001b[0mself\u001b[0m\u001b[0;34m.\u001b[0m\u001b[0mtimeout\u001b[0m\u001b[0;34m)\u001b[0m\u001b[0;34m)\u001b[0m\u001b[0;34m\u001b[0m\u001b[0;34m\u001b[0m\u001b[0m\n\u001b[0m\u001b[1;32m    834\u001b[0m                 \u001b[0;32melse\u001b[0m\u001b[0;34m:\u001b[0m\u001b[0;34m\u001b[0m\u001b[0;34m\u001b[0m\u001b[0m\n\u001b[1;32m    835\u001b[0m                     \u001b[0mself\u001b[0m\u001b[0;34m.\u001b[0m\u001b[0m_output\u001b[0m\u001b[0;34m.\u001b[0m\u001b[0mextend\u001b[0m\u001b[0;34m(\u001b[0m\u001b[0mjob\u001b[0m\u001b[0;34m.\u001b[0m\u001b[0mget\u001b[0m\u001b[0;34m(\u001b[0m\u001b[0;34m)\u001b[0m\u001b[0;34m)\u001b[0m\u001b[0;34m\u001b[0m\u001b[0;34m\u001b[0m\u001b[0m\n",
      "\u001b[0;32m~/Documents/HW4 - docs/venv/lib/python3.6/site-packages/joblib/_parallel_backends.py\u001b[0m in \u001b[0;36mwrap_future_result\u001b[0;34m(future, timeout)\u001b[0m\n\u001b[1;32m    519\u001b[0m         AsyncResults.get from multiprocessing.\"\"\"\n\u001b[1;32m    520\u001b[0m         \u001b[0;32mtry\u001b[0m\u001b[0;34m:\u001b[0m\u001b[0;34m\u001b[0m\u001b[0;34m\u001b[0m\u001b[0m\n\u001b[0;32m--> 521\u001b[0;31m             \u001b[0;32mreturn\u001b[0m \u001b[0mfuture\u001b[0m\u001b[0;34m.\u001b[0m\u001b[0mresult\u001b[0m\u001b[0;34m(\u001b[0m\u001b[0mtimeout\u001b[0m\u001b[0;34m=\u001b[0m\u001b[0mtimeout\u001b[0m\u001b[0;34m)\u001b[0m\u001b[0;34m\u001b[0m\u001b[0;34m\u001b[0m\u001b[0m\n\u001b[0m\u001b[1;32m    522\u001b[0m         \u001b[0;32mexcept\u001b[0m \u001b[0mLokyTimeoutError\u001b[0m\u001b[0;34m:\u001b[0m\u001b[0;34m\u001b[0m\u001b[0;34m\u001b[0m\u001b[0m\n\u001b[1;32m    523\u001b[0m             \u001b[0;32mraise\u001b[0m \u001b[0mTimeoutError\u001b[0m\u001b[0;34m(\u001b[0m\u001b[0;34m)\u001b[0m\u001b[0;34m\u001b[0m\u001b[0;34m\u001b[0m\u001b[0m\n",
      "\u001b[0;32m/usr/lib/python3.6/concurrent/futures/_base.py\u001b[0m in \u001b[0;36mresult\u001b[0;34m(self, timeout)\u001b[0m\n\u001b[1;32m    425\u001b[0m                 \u001b[0;32mreturn\u001b[0m \u001b[0mself\u001b[0m\u001b[0;34m.\u001b[0m\u001b[0m__get_result\u001b[0m\u001b[0;34m(\u001b[0m\u001b[0;34m)\u001b[0m\u001b[0;34m\u001b[0m\u001b[0;34m\u001b[0m\u001b[0m\n\u001b[1;32m    426\u001b[0m \u001b[0;34m\u001b[0m\u001b[0m\n\u001b[0;32m--> 427\u001b[0;31m             \u001b[0mself\u001b[0m\u001b[0;34m.\u001b[0m\u001b[0m_condition\u001b[0m\u001b[0;34m.\u001b[0m\u001b[0mwait\u001b[0m\u001b[0;34m(\u001b[0m\u001b[0mtimeout\u001b[0m\u001b[0;34m)\u001b[0m\u001b[0;34m\u001b[0m\u001b[0;34m\u001b[0m\u001b[0m\n\u001b[0m\u001b[1;32m    428\u001b[0m \u001b[0;34m\u001b[0m\u001b[0m\n\u001b[1;32m    429\u001b[0m             \u001b[0;32mif\u001b[0m \u001b[0mself\u001b[0m\u001b[0;34m.\u001b[0m\u001b[0m_state\u001b[0m \u001b[0;32min\u001b[0m \u001b[0;34m[\u001b[0m\u001b[0mCANCELLED\u001b[0m\u001b[0;34m,\u001b[0m \u001b[0mCANCELLED_AND_NOTIFIED\u001b[0m\u001b[0;34m]\u001b[0m\u001b[0;34m:\u001b[0m\u001b[0;34m\u001b[0m\u001b[0;34m\u001b[0m\u001b[0m\n",
      "\u001b[0;32m/usr/lib/python3.6/threading.py\u001b[0m in \u001b[0;36mwait\u001b[0;34m(self, timeout)\u001b[0m\n\u001b[1;32m    293\u001b[0m         \u001b[0;32mtry\u001b[0m\u001b[0;34m:\u001b[0m    \u001b[0;31m# restore state no matter what (e.g., KeyboardInterrupt)\u001b[0m\u001b[0;34m\u001b[0m\u001b[0;34m\u001b[0m\u001b[0m\n\u001b[1;32m    294\u001b[0m             \u001b[0;32mif\u001b[0m \u001b[0mtimeout\u001b[0m \u001b[0;32mis\u001b[0m \u001b[0;32mNone\u001b[0m\u001b[0;34m:\u001b[0m\u001b[0;34m\u001b[0m\u001b[0;34m\u001b[0m\u001b[0m\n\u001b[0;32m--> 295\u001b[0;31m                 \u001b[0mwaiter\u001b[0m\u001b[0;34m.\u001b[0m\u001b[0macquire\u001b[0m\u001b[0;34m(\u001b[0m\u001b[0;34m)\u001b[0m\u001b[0;34m\u001b[0m\u001b[0;34m\u001b[0m\u001b[0m\n\u001b[0m\u001b[1;32m    296\u001b[0m                 \u001b[0mgotit\u001b[0m \u001b[0;34m=\u001b[0m \u001b[0;32mTrue\u001b[0m\u001b[0;34m\u001b[0m\u001b[0;34m\u001b[0m\u001b[0m\n\u001b[1;32m    297\u001b[0m             \u001b[0;32melse\u001b[0m\u001b[0;34m:\u001b[0m\u001b[0;34m\u001b[0m\u001b[0;34m\u001b[0m\u001b[0m\n",
      "\u001b[0;31mKeyboardInterrupt\u001b[0m: "
     ]
    }
   ],
   "source": [
    "import sys\n",
    "import tqdm\n",
    "# global X_train,X_test, y_train, y_test, pca_X_train, pca_X_test\n",
    "\n",
    "\n",
    "algos = {'Decision Tree before PCA':DT_before_PCA,\n",
    "         'Decision Tree with PCA':DT_after_PCA,\n",
    "         'Logistic Regression':LR_after_PCA,\n",
    "         'SVM':SVM_after_PCA}\n",
    "# print('Modelling in progress', end='...')\n",
    "for k in tqdm.tqdm(algos.keys()):\n",
    "    count = 10 # Experiment Count for analysis\n",
    "    algo = algos[k]\n",
    "    start = time.perf_counter()\n",
    "    val_scores = np.array([])\n",
    "    p_scores = np.array([])\n",
    "    measurements = []\n",
    "\n",
    "    for _ in tqdm.tqdm(range(count)):\n",
    "        X_train, y_train, X_test, y_test = generate_data()        \n",
    "        pca_X_train, pca_X_test = apply_PCA(X_train, X_test)\n",
    "        outcome = algo()\n",
    "        measurements.append(outcome)\n",
    "   \n",
    "  \n",
    "#     with concurrent.futures.ProcessPoolExecutor() as executor:\n",
    "#         results = [executor.submit(algo) for _ in range(count)]\n",
    "\n",
    "#     for f in concurrent.futures.as_completed(results):\n",
    "#         outcome = f.result()\n",
    "#         measurements.append(outcome)\n",
    "\n",
    "    print(\"\\n\\n\\nRan the experiment with\", k , count, \"times\")\n",
    "    print(\"Report: \\n\")\n",
    "    cols = ['Val_Accuracy', 'FP', 'FN', 'Accuracy', 'Recall', 'Precision', 'F1Score']\n",
    "    df_outcome = pd.DataFrame(measurements, columns=cols)\n",
    "    print(df_outcome)\n",
    "\n",
    "    finish = time.perf_counter()\n",
    "    print(\"Averaging the above experiments: \\n\")\n",
    "    print(df_outcome.mean())\n",
    "    print(\"Time Taken for execution is \", round(finish-start, 2), 'Seconds')"
   ]
  },
  {
   "cell_type": "code",
   "execution_count": null,
   "metadata": {},
   "outputs": [],
   "source": []
  }
 ],
 "metadata": {
  "kernelspec": {
   "display_name": "Python 3",
   "language": "python",
   "name": "python3"
  },
  "language_info": {
   "codemirror_mode": {
    "name": "ipython",
    "version": 3
   },
   "file_extension": ".py",
   "mimetype": "text/x-python",
   "name": "python",
   "nbconvert_exporter": "python",
   "pygments_lexer": "ipython3",
   "version": "3.6.8"
  }
 },
 "nbformat": 4,
 "nbformat_minor": 4
}
